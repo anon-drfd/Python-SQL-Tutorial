{
  "cells": [
    {
      "metadata": {},
      "cell_type": "markdown",
      "source": "# Introduction to Python"
    },
    {
      "metadata": {
        "trusted": true
      },
      "cell_type": "markdown",
      "source": "## What is Python?\n\n- Python is an object-oriented programming language created by Guido Rossum in 1989. \n- It is ideally designed for rapid prototyping of complex applications.\n- __Versatile:__ Even though Python is an easy programming language for beginners, it has all of the power and resources necessary to get advanced work done. Once you learn it you can find possibilities in web development, data science, machine learning, AI, web scrapping, game development, scientific and numeric computing\n- __Value & Demand:__ Many large companies use the Python programming language include NASA, Google, YouTube, BitTorrent, Facebook, Quora, Amazon, Reddit, Netflix, Dropbox, Instagram etc.\n\nPython programming is widely used in Artificial Intelligence, Natural Language Generation, Neural Networks and other advanced fields of Computer Science. \n\n## Why Python?\n- Python works on different platforms (Windows, Mac, Linux, Raspberry Pi, etc).\n- Python has a simple syntax similar to the English language.\n- Python has syntax that allows developers to write programs with fewer lines than some other programming languages.\n- Python runs on an interpreter system, meaning that code can be executed as soon as it is written. This means that prototyping can be very quick.\n- Python can be treated in a procedural way, an object-orientated way or a functional way."
    },
    {
      "metadata": {},
      "cell_type": "markdown",
      "source": "## Top Programming Languages in 2019\n\n<img src=\"https://learnworthy.net/wp-content/uploads/2019/09/Trendies-programming-languages-of-2019.jpg\" alt=\"Top Programming Languages in 2019\" style=\"width: 500px;\"/>\n"
    },
    {
      "metadata": {},
      "cell_type": "markdown",
      "source": "# Python Syntax\n\n## Execute Python Syntax"
    },
    {
      "metadata": {},
      "cell_type": "markdown",
      "source": "### Creating a comment\n\nComments can be used to: \n- explain Python code\n- make the code more readable.\n- prevent execution when testing code.\n\nTo write comments in Python, you need to use: “#”\n\nWhen you execute a code, Python will ignore your comments."
    },
    {
      "metadata": {
        "trusted": true
      },
      "cell_type": "code",
      "source": "#Comments can be placed at the start of the line\nprint(\"Hello, World!\")",
      "execution_count": 2,
      "outputs": [
        {
          "output_type": "error",
          "ename": "SyntaxError",
          "evalue": "invalid syntax (<ipython-input-2-7eed941429f7>, line 1)",
          "traceback": [
            "\u001b[0;36m  File \u001b[0;32m\"<ipython-input-2-7eed941429f7>\"\u001b[0;36m, line \u001b[0;32m1\u001b[0m\n\u001b[0;31m    Comments can be placed at the start of the line\u001b[0m\n\u001b[0m               ^\u001b[0m\n\u001b[0;31mSyntaxError\u001b[0m\u001b[0;31m:\u001b[0m invalid syntax\n"
          ]
        }
      ]
    },
    {
      "metadata": {
        "trusted": true
      },
      "cell_type": "code",
      "source": "print(\"Hello, World!\") #Comments can be placed at the end of the line",
      "execution_count": 3,
      "outputs": [
        {
          "output_type": "stream",
          "text": "Hello, World!\n",
          "name": "stdout"
        }
      ]
    },
    {
      "metadata": {},
      "cell_type": "markdown",
      "source": "Now, your turn. say hello and tell the world your name!"
    },
    {
      "metadata": {
        "trusted": true
      },
      "cell_type": "code",
      "source": "print(\"Assalamualaikum. My name is Fatimah\") #Say: Hello! I'm <insert-your-name-here>",
      "execution_count": 4,
      "outputs": [
        {
          "output_type": "stream",
          "text": "Assalamualaikum. My name is Fatimah\n",
          "name": "stdout"
        }
      ]
    },
    {
      "metadata": {},
      "cell_type": "markdown",
      "source": "In Python, the `input()` function allows user input."
    },
    {
      "metadata": {
        "trusted": true
      },
      "cell_type": "code",
      "source": "print('Enter your name:')\nx = input()\nprint('Hello, ' + x)",
      "execution_count": 6,
      "outputs": [
        {
          "output_type": "stream",
          "text": "Enter your name:\nPokemon\nHello, Pokemon\n",
          "name": "stdout"
        }
      ]
    },
    {
      "metadata": {},
      "cell_type": "markdown",
      "source": "### Python Indentation\n\nIndentation refers to the spaces at the beginning of a code line.\n\nIn other programming languages the indentation in code is for readability only - the indentation in Python is very important.\n\nPython uses indentation to indicate a block of code.\n"
    },
    {
      "metadata": {
        "trusted": true
      },
      "cell_type": "code",
      "source": "if 12 > 4:\n  print(\"Twelve is greater than four!\")",
      "execution_count": 7,
      "outputs": [
        {
          "output_type": "stream",
          "text": "Twelve is greater than four!\n",
          "name": "stdout"
        }
      ]
    },
    {
      "metadata": {},
      "cell_type": "markdown",
      "source": "Python will give you an error if you skip the indentation:"
    },
    {
      "metadata": {
        "trusted": true
      },
      "cell_type": "code",
      "source": "if 12 > 4\nprint(\"Twelve is greater than four!\")",
      "execution_count": 8,
      "outputs": [
        {
          "output_type": "error",
          "ename": "SyntaxError",
          "evalue": "invalid syntax (<ipython-input-8-4497f3117c2b>, line 1)",
          "traceback": [
            "\u001b[0;36m  File \u001b[0;32m\"<ipython-input-8-4497f3117c2b>\"\u001b[0;36m, line \u001b[0;32m1\u001b[0m\n\u001b[0;31m    if 12 > 4\u001b[0m\n\u001b[0m             ^\u001b[0m\n\u001b[0;31mSyntaxError\u001b[0m\u001b[0;31m:\u001b[0m invalid syntax\n"
          ]
        }
      ]
    },
    {
      "metadata": {},
      "cell_type": "markdown",
      "source": "The number of spaces is up to you as a programmer, but it has to be at least one."
    },
    {
      "metadata": {
        "trusted": true
      },
      "cell_type": "code",
      "source": "if 12 > 4:\n  print(\"Twelve is greater than four!\")\nif 12 > 4:\n      print(\"Twelve is greater than four!\")",
      "execution_count": 9,
      "outputs": [
        {
          "output_type": "stream",
          "text": "Twelve is greater than four!\nTwelve is greater than four!\n",
          "name": "stdout"
        }
      ]
    },
    {
      "metadata": {},
      "cell_type": "markdown",
      "source": "You have to use the same number of spaces in the same block of code, otherwise Python will give you an error:"
    },
    {
      "metadata": {
        "trusted": true
      },
      "cell_type": "code",
      "source": "if 12 > 4:\n  print(\"Twelve is greater than four!\")\n  print(\"Twelve is greater than four!\")",
      "execution_count": 11,
      "outputs": [
        {
          "output_type": "stream",
          "text": "Twelve is greater than four!\nTwelve is greater than four!\n",
          "name": "stdout"
        }
      ]
    },
    {
      "metadata": {},
      "cell_type": "markdown",
      "source": "# Python Data Types\nIn programming, data type is an important concept. Variables can store data of different types, and different types can do different things.\n\nThese are some examples of data types\n\n<b>Text Type:</b>\t     str <br />\n<b>Numeric Types:</b>\t int, float, complex <br />\n<b>Sequence Types:</b>\t list, tuple, range <br />\n\nTo get the the data type, you can get the data type of any object by using the `type()` function."
    },
    {
      "metadata": {
        "trusted": true
      },
      "cell_type": "code",
      "source": "x = \"Hello World\"\n\n#display x:\nprint(x)\n\n#display the data type of x:\nprint(type(x)) ",
      "execution_count": 12,
      "outputs": [
        {
          "output_type": "stream",
          "text": "Hello World\n<class 'str'>\n",
          "name": "stdout"
        }
      ]
    },
    {
      "metadata": {},
      "cell_type": "markdown",
      "source": "There are three numeric types in Python:\n- int\n- float\n- complex\n\nVariables of numeric types are created when you assign a value to them:"
    },
    {
      "metadata": {
        "trusted": true
      },
      "cell_type": "code",
      "source": "x = 3    # int\ny = 3.4  # float\nz = 8 - 6j   # complex\n\n#display:\nprint(x)\nprint(y)\nprint(z)\n\n#display the data type:\nprint(type(x)) \nprint(type(y)) \nprint(type(z)) ",
      "execution_count": 13,
      "outputs": [
        {
          "output_type": "stream",
          "text": "3\n3.4\n(8-6j)\n<class 'int'>\n<class 'float'>\n<class 'complex'>\n",
          "name": "stdout"
        }
      ]
    },
    {
      "metadata": {
        "trusted": true
      },
      "cell_type": "code",
      "source": "x = [\"apple\", \"banana\", \"cherry\"]\n\n#display x:\nprint(x)\n\n#display the data type of x:\nprint(type(x))\n\n#access 2nd item in the list:\nprint(x[-2])",
      "execution_count": 17,
      "outputs": [
        {
          "output_type": "stream",
          "text": "['apple', 'banana', 'cherry']\n<class 'list'>\nbanana\n",
          "name": "stdout"
        }
      ]
    },
    {
      "metadata": {
        "trusted": true
      },
      "cell_type": "code",
      "source": "x = True\n\n#display x:\nprint(x)\n\n#display the data type of x:\nprint(type(x)) ",
      "execution_count": 18,
      "outputs": [
        {
          "output_type": "stream",
          "text": "True\n<class 'bool'>\n",
          "name": "stdout"
        }
      ]
    },
    {
      "metadata": {},
      "cell_type": "markdown",
      "source": "# Python Conditions and If statements\nPython supports the usual logical conditions from mathematics:\n\n- Equals: a == b\n- Not Equals: a != b\n- Less than: a < b\n- Less than or equal to: a <= b\n- Greater than: a > b\n- Greater than or equal to: a >= b\n\nThese conditions can be used in several ways, most commonly in \"if statements\" and loops.\n\nAn \"if statement\" is written by using the if keyword."
    },
    {
      "metadata": {
        "trusted": true
      },
      "cell_type": "code",
      "source": "a = 54\nb = 189\nif b > a:\n print(\"b is greater than a\") #Note the indentation",
      "execution_count": 21,
      "outputs": [
        {
          "output_type": "stream",
          "text": "b is greater than a\n",
          "name": "stdout"
        }
      ]
    },
    {
      "metadata": {},
      "cell_type": "markdown",
      "source": "### Elif\nThe elif keyword is pythons way of saying \"if the previous conditions were not true, then try this condition\"."
    },
    {
      "metadata": {
        "trusted": true
      },
      "cell_type": "code",
      "source": "# In this example a is equal to b, so the first condition \n# is not true, but the elif condition is true, \n# so we print to screen that \"a and b are equal\".\n\na = 33\nb = 90\nif b > a:\n  print(\"b is greater than a\")\nelif a == b:\n  print(\"a and b are equal\")",
      "execution_count": 23,
      "outputs": [
        {
          "output_type": "stream",
          "text": "b is greater than a\n",
          "name": "stdout"
        }
      ]
    },
    {
      "metadata": {},
      "cell_type": "markdown",
      "source": "### Else\nThe else keyword catches anything which isn't caught by the preceding conditions."
    },
    {
      "metadata": {
        "trusted": true
      },
      "cell_type": "code",
      "source": "# In this example a is greater than b, \n# so the first condition is not true, \n# also the elif condition is not true, so we go to the else condition \n# and print to screen that \"a is greater than b\".\n\na = 20\nb = 33\nif b > a:\n  print(\"b is greater than a\")\nelif a == b:\n  print(\"a and b are equal\")\nelse:\n  print(\"a is greater than b\")",
      "execution_count": 25,
      "outputs": [
        {
          "output_type": "stream",
          "text": "b is greater than a\n",
          "name": "stdout"
        }
      ]
    },
    {
      "metadata": {},
      "cell_type": "markdown",
      "source": "# Python Loops\n\nPython has two primitive loop commands:\n\n- while loops\n- for loops"
    },
    {
      "metadata": {
        "trusted": true
      },
      "cell_type": "markdown",
      "source": "## The while loop\n\nWith the while loop we can execute a set of statements as long as a condition is true."
    },
    {
      "metadata": {
        "trusted": true
      },
      "cell_type": "code",
      "source": "# Print i as long as i is less than 10\n\ni = 1 \nwhile i < 10:\n  print(i)\n  i += 1     #Increment i (or else the loop will continue forever)",
      "execution_count": 22,
      "outputs": [
        {
          "output_type": "stream",
          "text": "1\n2\n3\n4\n5\n6\n7\n8\n9\n",
          "name": "stdout"
        }
      ]
    },
    {
      "metadata": {},
      "cell_type": "markdown",
      "source": "### The break Statement\nWith the break statement we can stop the loop even if the while condition is true:"
    },
    {
      "metadata": {
        "trusted": true
      },
      "cell_type": "code",
      "source": "# With the break statement we can stop the loop \n# even if the while condition is true:\n\ni = 1\nwhile i < 6:\n  print(i)\n  if i == 3:\n    break\n  i += 1",
      "execution_count": 28,
      "outputs": [
        {
          "output_type": "stream",
          "text": "1\n2\n3\n4\n5\n",
          "name": "stdout"
        }
      ]
    },
    {
      "metadata": {},
      "cell_type": "markdown",
      "source": "### The continue Statement\nWith the continue statement we can stop the current iteration, and continue with the next:"
    },
    {
      "metadata": {
        "trusted": true
      },
      "cell_type": "code",
      "source": "i = 0\nwhile i < 6:\n  i += 1\n  if i == 3:\n    continue\n  print(i)",
      "execution_count": 29,
      "outputs": [
        {
          "output_type": "stream",
          "text": "1\n2\n4\n5\n6\n",
          "name": "stdout"
        }
      ]
    },
    {
      "metadata": {},
      "cell_type": "markdown",
      "source": "### The else Statement\nWith the else statement we can run a block of code once when the condition no longer is true:"
    },
    {
      "metadata": {
        "trusted": true
      },
      "cell_type": "code",
      "source": "# Print a message once the condition is false\ni = 1\nwhile i < 6:\n  print(i)\n  i += 1\nelse:\n  print(\"i is no longer less than 6\")",
      "execution_count": 30,
      "outputs": [
        {
          "output_type": "stream",
          "text": "1\n2\n3\n4\n5\ni is no longer less than 6\n",
          "name": "stdout"
        }
      ]
    },
    {
      "metadata": {},
      "cell_type": "markdown",
      "source": "## Python For Loops\nA for loop is used for iterating over a sequence (that is either a list, a tuple, a dictionary, a set, or a string).\n\nThis is less like the `for` keyword in other programming languages, and works more like an iterator method as found in other object-orientated programming languages.\n\nWith the for loop we can execute a set of statements, once for each item in a list, tuple, set etc."
    },
    {
      "metadata": {
        "trusted": true
      },
      "cell_type": "code",
      "source": "# Print each fruit in a fruit list:\nfruits = [\"apple\", \"banana\", \"cherry\"]\nfor x in fruits:\n  print(x)",
      "execution_count": 31,
      "outputs": [
        {
          "output_type": "stream",
          "text": "apple\nbanana\ncherry\n",
          "name": "stdout"
        }
      ]
    },
    {
      "metadata": {},
      "cell_type": "markdown",
      "source": "### Looping Through a String\nEven strings are iterable objects, they contain a sequence of characters:"
    },
    {
      "metadata": {
        "trusted": true
      },
      "cell_type": "code",
      "source": "#Loop through the letters in the word \"banana\":\n\nfor x in \"banana\":\n  print(x)",
      "execution_count": 32,
      "outputs": [
        {
          "output_type": "stream",
          "text": "b\na\nn\na\nn\na\n",
          "name": "stdout"
        }
      ]
    },
    {
      "metadata": {},
      "cell_type": "markdown",
      "source": "### The break Statement\nWith the break statement we can stop the loop before it has looped through all the items:"
    },
    {
      "metadata": {
        "trusted": true
      },
      "cell_type": "code",
      "source": "#Exit the loop when x is \"banana\":\n\nfruits = [\"apple\", \"banana\", \"cherry\"]\nfor x in fruits:\n  print(x)\n  if x == \"banana\":\n    break",
      "execution_count": 35,
      "outputs": [
        {
          "output_type": "stream",
          "text": "apple\nbanana\n",
          "name": "stdout"
        }
      ]
    },
    {
      "metadata": {
        "trusted": true
      },
      "cell_type": "code",
      "source": "#Exit the loop when x is \"banana\", but this time the break comes before the print:\n\nfruits = [\"apple\", \"banana\", \"cherry\"]\nfor x in fruits:\n  if x == \"banana\":\n    break\n  print(x)",
      "execution_count": 36,
      "outputs": [
        {
          "output_type": "stream",
          "text": "apple\n",
          "name": "stdout"
        }
      ]
    },
    {
      "metadata": {},
      "cell_type": "markdown",
      "source": "# Group Project #1: Guess The Number\n\nWrite a programme where the computer randomly generates a number between 0 and 20. The user needs to guess what the number is. If the user guesses wrong, tell them their guess is either too high, or too low. "
    },
    {
      "metadata": {
        "trusted": true
      },
      "cell_type": "code",
      "source": "#Hint: This is how you get the computer to generate random integer \n\nimport random\n\n#Randint will give you a random number between 0 to 20\nx = random.randint(0, 20)\nprint(x) \n\n# Run this code multiple times. What is the output of x? \n# You should see random numbers between 0 and 20",
      "execution_count": 3,
      "outputs": [
        {
          "output_type": "stream",
          "text": "0\n",
          "name": "stdout"
        }
      ]
    },
    {
      "metadata": {},
      "cell_type": "markdown",
      "source": "Now that we've figured out how to get the computer randomly generate a number between 0 and 20, we need to get the \n- The user needs to guess what the number is. \n- If the user guesses wrong, tell them their guess is either too high, or too low. \n- Repeat the above steps until the user guesses correctly"
    },
    {
      "metadata": {
        "trusted": true
      },
      "cell_type": "code",
      "source": "# Insert your code for Project: Guess the Number below\n\nimport random\nx = random.randint(0, 20) #Generate random number\n\n#Get user input\nprint('Guess a number between 0 and 20: ')\nguess = int(input())\n\nflag = 0;\n\n\nwhile flag == 0:\n\n    if guess == x: \n        print(\"You guessed it!! It's \" + str(x))\n        flag = 1\n    else: \n        if guess > x:\n            print(\"Too High\")\n        else:\n            print(\"Too Low\")   \n            \n        #Get user input\n        print('Guess a number between 0 and 20: ')\n        guess = int(input())\n",
      "execution_count": null,
      "outputs": []
    },
    {
      "metadata": {},
      "cell_type": "markdown",
      "source": "# Group Project #2: Rock, Paper, Scissors Game\nMake a rock-paper-scissors game where it is the player vs the computer. The computer’s answer will be randomly generated, while the program will ask the user for their input. This project will better your understanding of while loops and if statements.\n\n<img src=\"https://www.scienceabc.com/wp-content/uploads/2017/12/Paper-scissor-rock-game.jpg\" style=\"width: 500px;\"/>\n"
    },
    {
      "metadata": {
        "trusted": true
      },
      "cell_type": "code",
      "source": "#Hint: This is how you get the computer to generate random output of choices\n\nimport random\n\nxComp = random.choice( ['rock', 'paper', 'scissors'] )\nprint(xComp) \n\n# Run this code multiple times. What is the output of x? \n# You should see random choices between rock, paper and scissors",
      "execution_count": 6,
      "outputs": [
        {
          "output_type": "stream",
          "text": "rock\n",
          "name": "stdout"
        }
      ]
    },
    {
      "metadata": {
        "trusted": true
      },
      "cell_type": "code",
      "source": "# Insert your code for Project: Guess the Number below\n# Hint: This is how you get the computer to generate random output of choices\n\nimport random\n\n\nxComp = random.choice( ['rock', 'paper', 'scissors'] )\n\nprint('rock, paper or scissors?')\nxPlayer = input()\nprint('Computer: ' + xComp)\n\n#If comp = player\nwhile xComp == xPlayer:\n    #play again\n    xComp = random.choice( ['rock', 'paper', 'scissors'] )\n\n    print('rock, paper or scissors?')\n    xPlayer = input()\n    print('Computer: ' + xComp)\n    \nelse:\n    #if comp rock\n    if xComp == 'rock':\n        if xPlayer == 'scissors':\n            print('Computer Wins!')\n        else:\n            print('You Win!')\n    elif xComp == 'paper':\n        if xPlayer == 'scissors':\n            print('You Win!')\n        else:\n            print('Computer Wins!')\n    elif xComp == 'scissors':\n        if xPlayer == 'paper':\n            print('Computer Wins!')\n        else:\n            print('You Win!')\n\n\n\n\n",
      "execution_count": null,
      "outputs": []
    },
    {
      "metadata": {
        "trusted": true
      },
      "cell_type": "code",
      "source": "",
      "execution_count": null,
      "outputs": []
    }
  ],
  "metadata": {
    "kernelspec": {
      "name": "python36",
      "display_name": "Python 3.6",
      "language": "python"
    },
    "language_info": {
      "mimetype": "text/x-python",
      "nbconvert_exporter": "python",
      "name": "python",
      "pygments_lexer": "ipython3",
      "version": "3.6.6",
      "file_extension": ".py",
      "codemirror_mode": {
        "version": 3,
        "name": "ipython"
      }
    }
  },
  "nbformat": 4,
  "nbformat_minor": 1
}